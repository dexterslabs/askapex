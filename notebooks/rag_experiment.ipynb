{
 "cells": [
  {
   "cell_type": "code",
   "execution_count": 1,
   "metadata": {},
   "outputs": [],
   "source": [
    "import sys\n",
    "import langchain\n",
    "import json"
   ]
  },
  {
   "cell_type": "markdown",
   "metadata": {},
   "source": [
    "### Get data from the target website"
   ]
  },
  {
   "cell_type": "code",
   "execution_count": 2,
   "metadata": {},
   "outputs": [
    {
     "name": "stdout",
     "output_type": "stream",
     "text": [
      "Downloaded: http://support.apexsystemsinc.com/index.php -> ./pages/support.apexsystemsinc.com_index.php.html\n",
      "Downloaded: http://support.apexsystemsinc.com/index.php -> ./pages/support.apexsystemsinc.com_index.php.html\n",
      "Downloaded: http://support.apexsystemsinc.com/kb/index.php -> ./pages/support.apexsystemsinc.com_kb_index.php.html\n",
      "Downloaded: http://support.apexsystemsinc.com/open.php -> ./pages/support.apexsystemsinc.com_open.php.html\n",
      "Downloaded: http://support.apexsystemsinc.com/view.php -> ./pages/support.apexsystemsinc.com_view.php.html\n",
      "Downloaded: http://support.apexsystemsinc.com/kb/faq.php?id=1 -> ./pages/support.apexsystemsinc.com_kb_faq.php_id=1.html\n",
      "Downloaded: http://support.apexsystemsinc.com/kb/faq.php?id=11 -> ./pages/support.apexsystemsinc.com_kb_faq.php_id=11.html\n",
      "Downloaded: http://support.apexsystemsinc.com/kb/faq.php?id=12 -> ./pages/support.apexsystemsinc.com_kb_faq.php_id=12.html\n",
      "Downloaded: http://support.apexsystemsinc.com/kb/faq.php?id=13 -> ./pages/support.apexsystemsinc.com_kb_faq.php_id=13.html\n",
      "Downloaded: http://support.apexsystemsinc.com/kb/faq.php?id=14 -> ./pages/support.apexsystemsinc.com_kb_faq.php_id=14.html\n",
      "Downloaded: http://support.apexsystemsinc.com/kb/faq.php?id=15 -> ./pages/support.apexsystemsinc.com_kb_faq.php_id=15.html\n",
      "Downloaded: http://support.apexsystemsinc.com/kb/faq.php?id=16 -> ./pages/support.apexsystemsinc.com_kb_faq.php_id=16.html\n",
      "Downloaded: http://support.apexsystemsinc.com/kb/faq.php?id=17 -> ./pages/support.apexsystemsinc.com_kb_faq.php_id=17.html\n",
      "Downloaded: http://support.apexsystemsinc.com/kb/faq.php?id=18 -> ./pages/support.apexsystemsinc.com_kb_faq.php_id=18.html\n",
      "Downloaded: http://support.apexsystemsinc.com/kb/faq.php?id=20 -> ./pages/support.apexsystemsinc.com_kb_faq.php_id=20.html\n",
      "Downloaded: http://support.apexsystemsinc.com/kb/faq.php?id=21 -> ./pages/support.apexsystemsinc.com_kb_faq.php_id=21.html\n",
      "Downloaded: http://support.apexsystemsinc.com/kb/faq.php?id=22 -> ./pages/support.apexsystemsinc.com_kb_faq.php_id=22.html\n",
      "Downloaded: http://support.apexsystemsinc.com/kb/faq.php?id=23 -> ./pages/support.apexsystemsinc.com_kb_faq.php_id=23.html\n",
      "Downloaded: http://support.apexsystemsinc.com/kb/faq.php?id=24 -> ./pages/support.apexsystemsinc.com_kb_faq.php_id=24.html\n",
      "Downloaded: http://support.apexsystemsinc.com/kb/faq.php?id=25 -> ./pages/support.apexsystemsinc.com_kb_faq.php_id=25.html\n",
      "Downloaded: http://support.apexsystemsinc.com/kb/faq.php?id=26 -> ./pages/support.apexsystemsinc.com_kb_faq.php_id=26.html\n",
      "Downloaded: http://support.apexsystemsinc.com/kb/faq.php?id=27 -> ./pages/support.apexsystemsinc.com_kb_faq.php_id=27.html\n",
      "Downloaded: http://support.apexsystemsinc.com/kb/faq.php?id=28 -> ./pages/support.apexsystemsinc.com_kb_faq.php_id=28.html\n",
      "Downloaded: http://support.apexsystemsinc.com/kb/faq.php?id=29 -> ./pages/support.apexsystemsinc.com_kb_faq.php_id=29.html\n",
      "Downloaded: https://osticket.com -> ./pages/osticket.com.html\n",
      "Downloaded: http://support.apexsystemsinc.com/index.php -> ./pages/support.apexsystemsinc.com_index.php.html\n",
      "Downloaded: http://support.apexsystemsinc.com/index.php -> ./pages/support.apexsystemsinc.com_index.php.html\n",
      "Downloaded: http://support.apexsystemsinc.com/kb/index.php -> ./pages/support.apexsystemsinc.com_kb_index.php.html\n",
      "Downloaded: http://support.apexsystemsinc.com/open.php -> ./pages/support.apexsystemsinc.com_open.php.html\n",
      "Downloaded: http://support.apexsystemsinc.com/view.php -> ./pages/support.apexsystemsinc.com_view.php.html\n",
      "Downloaded: http://support.apexsystemsinc.com/kb/faq.php?id=2 -> ./pages/support.apexsystemsinc.com_kb_faq.php_id=2.html\n",
      "Downloaded: http://support.apexsystemsinc.com/kb/faq.php?id=3 -> ./pages/support.apexsystemsinc.com_kb_faq.php_id=3.html\n",
      "Downloaded: http://support.apexsystemsinc.com/kb/faq.php?id=4 -> ./pages/support.apexsystemsinc.com_kb_faq.php_id=4.html\n",
      "Downloaded: http://support.apexsystemsinc.com/kb/faq.php?id=5 -> ./pages/support.apexsystemsinc.com_kb_faq.php_id=5.html\n",
      "Downloaded: http://support.apexsystemsinc.com/kb/faq.php?id=6 -> ./pages/support.apexsystemsinc.com_kb_faq.php_id=6.html\n",
      "Downloaded: http://support.apexsystemsinc.com/kb/faq.php?id=7 -> ./pages/support.apexsystemsinc.com_kb_faq.php_id=7.html\n",
      "Downloaded: http://support.apexsystemsinc.com/kb/faq.php?id=8 -> ./pages/support.apexsystemsinc.com_kb_faq.php_id=8.html\n",
      "Downloaded: http://support.apexsystemsinc.com/kb/faq.php?id=9 -> ./pages/support.apexsystemsinc.com_kb_faq.php_id=9.html\n",
      "Downloaded: http://support.apexsystemsinc.com/kb/faq.php?id=10 -> ./pages/support.apexsystemsinc.com_kb_faq.php_id=10.html\n",
      "Downloaded: https://osticket.com -> ./pages/osticket.com.html\n"
     ]
    }
   ],
   "source": [
    "import os\n",
    "import requests\n",
    "from bs4 import BeautifulSoup\n",
    "from urllib.parse import urljoin\n",
    "\n",
    "class CustomScraper:\n",
    "    def __init__(self, base_url, storage_dir=\"./pages\"):\n",
    "        self.base_url = base_url\n",
    "        self.storage_dir = storage_dir\n",
    "        self.ensure_storage_dir_exists()\n",
    "\n",
    "    def ensure_storage_dir_exists(self):\n",
    "        \"\"\"Ensures the storage directory exists.\"\"\"\n",
    "        if not os.path.exists(self.storage_dir):\n",
    "            os.mkdir(self.storage_dir)\n",
    "\n",
    "    def format_url_for_saving(self, url):\n",
    "        \"\"\"Adjust URL to a safe filename format.\"\"\"\n",
    "        clean_url = url.replace(\"https://\", \"\").replace(\"http://\", \"\")\n",
    "        forbidden_chars = ['/', '\\\\', ':', '*', '?', '\"', '<', '>', '|']\n",
    "        for char in forbidden_chars:\n",
    "            clean_url = clean_url.replace(char, \"_\")\n",
    "        return clean_url\n",
    "\n",
    "    def fetch_page_and_store(self, url, filename=None):\n",
    "        \"\"\"Fetch a page content and store it locally.\"\"\"\n",
    "        try:\n",
    "            result = requests.get(url)\n",
    "            if filename is None:\n",
    "                filename = self.format_url_for_saving(url)\n",
    "            filepath = os.path.join(self.storage_dir, f\"{filename}.html\")\n",
    "            with open(filepath, \"wb\") as file:\n",
    "                file.write(result.content)\n",
    "            print(f\"Downloaded: {url} -> {filepath}\")\n",
    "        except requests.exceptions.RequestException as e:\n",
    "            print(f\"Failed to download {url}: {e}\")\n",
    "\n",
    "    def scrape_and_download_links(self):\n",
    "        \"\"\"Scrape all links on the base page and download their content.\"\"\"\n",
    "        try:\n",
    "            response = requests.get(self.base_url)\n",
    "            soup = BeautifulSoup(response.content, \"html.parser\")\n",
    "            links = soup.find_all('a')\n",
    "            \n",
    "            for link in links:\n",
    "                href = link.get('href')\n",
    "                if href and not href.startswith('#'):\n",
    "                    full_url = urljoin(self.base_url, href)\n",
    "                    self.fetch_page_and_store(full_url)\n",
    "        except requests.exceptions.RequestException as e:\n",
    "            print(f\"Failed to access {self.base_url}: {e}\")\n",
    "\n",
    "# Example usage\n",
    "if __name__ == \"__main__\":\n",
    "    base_url1 = \"http://support.apexsystemsinc.com/kb/faq.php?cid=1\"\n",
    "    scraper = CustomScraper(base_url1)\n",
    "    scraper.scrape_and_download_links()\n",
    "\n",
    "    base_url2 = \"http://support.apexsystemsinc.com/kb/faq.php?cid=2\"\n",
    "    scraper = CustomScraper(base_url2)\n",
    "    scraper.scrape_and_download_links()\n",
    "\n"
   ]
  },
  {
   "cell_type": "code",
   "execution_count": 3,
   "metadata": {},
   "outputs": [
    {
     "name": "stdout",
     "output_type": "stream",
     "text": [
      "                                        Article Title  \\\n",
      "0                                Create an TA Account   \n",
      "1                                  Unauthorized Error   \n",
      "2             Entering Expenses & Submitting Reciepts   \n",
      "3                                      Direct Deposit   \n",
      "4                                   Time Portal Links   \n",
      "5                           Correct Contractors Hours   \n",
      "6                            My Apex Mobile App Guide   \n",
      "7   Creating a My Apex Account/ Already Registered...   \n",
      "8                                      Updating Email   \n",
      "9                                   Zero Hours Worked   \n",
      "10                          Setting Up New Primary TA   \n",
      "11  Updating Timecard (Accidental Submittal, Corre...   \n",
      "12                      Updating Personal Information   \n",
      "13              Setting up an Alternate Time Approver   \n",
      "14                                          W4 Update   \n",
      "15                         Unauthorized Error Message   \n",
      "16                            Contractor Portal Guide   \n",
      "17               Contractor Care Contract Information   \n",
      "18                                           W2 Steps   \n",
      "19                           Time Approver Mobile App   \n",
      "20                                 Time Approve Guide   \n",
      "21                             Viewing Paycheck stubs   \n",
      "22               Where to approve Contractor's Hours?   \n",
      "23                             Site Under Maintenance   \n",
      "24                                 Approved Timecards   \n",
      "25                                 Approved Timecards   \n",
      "26                 Forgot User ID and Password Resets   \n",
      "27                                     Entering Hours   \n",
      "28                         Profile under Construction   \n",
      "\n",
      "                                          Information  \\\n",
      "0   Please go to client.apexsystemsinc.com and the...   \n",
      "1   Please follow the below steps get pass this er...   \n",
      "2   Below are steps on how to enter in your expens...   \n",
      "3   Please follow the below steps to set up your d...   \n",
      "4   There are 3 links on the homepage Clients: for...   \n",
      "5   You able able to override a contractors hours ...   \n",
      "6               Please click on the attachment below!   \n",
      "7   Please follow the below steps to create a My A...   \n",
      "8   If you are able to get into the time managemen...   \n",
      "9   Please follow the below steps to submit a zero...   \n",
      "10  Only Apex has access to update the current pri...   \n",
      "11  Unfortunately you can only submit your time ca...   \n",
      "12  Unfortunately you can only update your Email A...   \n",
      "13  Once logged into the Time Approver portal, cli...   \n",
      "14  Hello! To update your W4, please log into your...   \n",
      "15  Please follow the below steps get pass this er...   \n",
      "16  The contractor quick start guide will guide yo...   \n",
      "17  Contractor Care Phone #: 866 612 2739 Email: [...   \n",
      "18  Please follow the below steps to get your W2 o...   \n",
      "19  Please click the attachment below for the Time...   \n",
      "20  Quick start guide will guide you through some ...   \n",
      "21  Please log into the portal and under “My Pay I...   \n",
      "22  Once logged into the Time Approver portal, ple...   \n",
      "23  The MyApex time reporting system is currently ...   \n",
      "24  You can view approved timesheets as a pdf by s...   \n",
      "25  Welcome to the Apex Systems MyApex Support Cen...   \n",
      "26  Click on Forgot my password! On the MyApex Tim...   \n",
      "27  To enter in your hours, log into My Apex and c...   \n",
      "28  Please try again after 1pm ET on Saturday once...   \n",
      "\n",
      "                                                 Link  \n",
      "0   http://support.apexsystemsinc.com/kb/faq.php/id=3  \n",
      "1   http://support.apexsystemsinc.com/kb/faq.php/i...  \n",
      "2   http://support.apexsystemsinc.com/kb/faq.php/i...  \n",
      "3   http://support.apexsystemsinc.com/kb/faq.php/i...  \n",
      "4   http://support.apexsystemsinc.com/kb/faq.php/i...  \n",
      "5   http://support.apexsystemsinc.com/kb/faq.php/id=2  \n",
      "6   http://support.apexsystemsinc.com/kb/faq.php/i...  \n",
      "7   http://support.apexsystemsinc.com/kb/faq.php/i...  \n",
      "8   http://support.apexsystemsinc.com/kb/faq.php/id=9  \n",
      "9   http://support.apexsystemsinc.com/kb/faq.php/i...  \n",
      "10  http://support.apexsystemsinc.com/kb/faq.php/id=5  \n",
      "11  http://support.apexsystemsinc.com/kb/faq.php/i...  \n",
      "12  http://support.apexsystemsinc.com/kb/faq.php/i...  \n",
      "13  http://support.apexsystemsinc.com/kb/faq.php/id=4  \n",
      "14  http://support.apexsystemsinc.com/kb/faq.php/i...  \n",
      "15  http://support.apexsystemsinc.com/kb/faq.php/id=8  \n",
      "16  http://support.apexsystemsinc.com/kb/faq.php/i...  \n",
      "17  http://support.apexsystemsinc.com/kb/faq.php/i...  \n",
      "18  http://support.apexsystemsinc.com/kb/faq.php/i...  \n",
      "19  http://support.apexsystemsinc.com/kb/faq.php/id=7  \n",
      "20  http://support.apexsystemsinc.com/kb/faq.php/id=6  \n",
      "21  http://support.apexsystemsinc.com/kb/faq.php/i...  \n",
      "22  http://support.apexsystemsinc.com/kb/faq.php/i...  \n",
      "23  http://support.apexsystemsinc.com/kb/faq.php/i...  \n",
      "24  http://support.apexsystemsinc.com/kb/faq.php/id=1  \n",
      "25        http://support.apexsystemsinc.com/index.php  \n",
      "26  http://support.apexsystemsinc.com/kb/faq.php/i...  \n",
      "27  http://support.apexsystemsinc.com/kb/faq.php/i...  \n",
      "28  http://support.apexsystemsinc.com/kb/faq.php/i...  \n"
     ]
    }
   ],
   "source": [
    "import os\n",
    "from bs4 import BeautifulSoup\n",
    "import pandas as pd\n",
    "\n",
    "class DataExtractor:\n",
    "    def __init__(self, storage_dir):\n",
    "        self.storage_dir = storage_dir\n",
    "\n",
    "    def _extract_link_from_filename(self, filename):\n",
    "        # Reconstruct the original link from the saved filename\n",
    "        base_url = \"http://support.apexsystemsinc.com/\"\n",
    "        parts = filename.split('_')\n",
    "        reconstructed_path = '/'.join(parts[1:]).replace('.html', '').replace('_', '=').replace('-', '&')\n",
    "        return base_url + reconstructed_path\n",
    "\n",
    "    def _parse_html_file(self, filepath):\n",
    "        with open(filepath, 'r', encoding='utf-8') as file:\n",
    "            title_text =''\n",
    "            info_text=''\n",
    "            soup = BeautifulSoup(file, 'html.parser')\n",
    "            \n",
    "            # Extracting the article title\n",
    "            title = soup.find('div', class_='article-title')\n",
    "            info = soup.find('div', class_='thread-body')\n",
    "            if title and info:\n",
    "                title_text = title.get_text(strip=True)\n",
    "                info_text = ' '.join(info.stripped_strings)\n",
    "            \n",
    "            return title_text, info_text\n",
    "\n",
    "    def extract_data_to_dataframe(self):\n",
    "        data = []\n",
    "        for filename in os.listdir(self.storage_dir):\n",
    "            if not filename.endswith(\".html\"):\n",
    "                continue\n",
    "                \n",
    "            filepath = os.path.join(self.storage_dir, filename)\n",
    "            title, info = self._parse_html_file(filepath)\n",
    "            if info == '':\n",
    "                continue\n",
    "            link = self._extract_link_from_filename(filename)\n",
    "            \n",
    "            data.append({\n",
    "                'Article Title': title,\n",
    "                'Information': info,\n",
    "                'Link': link\n",
    "            })\n",
    "        \n",
    "        return pd.DataFrame(data)\n",
    "\n",
    "# Usage\n",
    "storage_dir = './pages'  # Update this path to where your HTML files are stored\n",
    "extractor = DataExtractor(storage_dir)\n",
    "df = extractor.extract_data_to_dataframe()\n",
    "print(df)"
   ]
  },
  {
   "cell_type": "code",
   "execution_count": 4,
   "metadata": {},
   "outputs": [],
   "source": [
    "from langchain_community.document_loaders import DataFrameLoader\n",
    "loader = DataFrameLoader(df, page_content_column=\"Information\")"
   ]
  },
  {
   "cell_type": "code",
   "execution_count": 5,
   "metadata": {},
   "outputs": [],
   "source": [
    "documents = loader.load()"
   ]
  },
  {
   "cell_type": "code",
   "execution_count": 6,
   "metadata": {},
   "outputs": [],
   "source": [
    "from langchain import OpenAI\n",
    "from langchain.callbacks.manager import CallbackManager\n",
    "from langchain.callbacks.streaming_stdout import StreamingStdOutCallbackHandler\n",
    "from langchain.chains import ConversationalRetrievalChain\n",
    "from langchain.chat_models import ChatOpenAI\n",
    "from langchain.chains.conversational_retrieval.prompts import CONDENSE_QUESTION_PROMPT, QA_PROMPT\n",
    "from langchain.chains.llm import LLMChain\n",
    "from langchain.chains.question_answering import load_qa_chain\n",
    "from langchain.document_loaders import TextLoader\n",
    "from langchain.embeddings.openai import OpenAIEmbeddings\n",
    "from langchain.llms import OpenAI\n",
    "from langchain.text_splitter import CharacterTextSplitter\n",
    "from langchain.vectorstores import Pinecone\n",
    "\n",
    "from dotenv import load_dotenv, find_dotenv\n",
    "\n"
   ]
  },
  {
   "cell_type": "code",
   "execution_count": 7,
   "metadata": {},
   "outputs": [
    {
     "name": "stderr",
     "output_type": "stream",
     "text": [
      "/Library/Frameworks/Python.framework/Versions/3.10/lib/python3.10/site-packages/langchain_core/_api/deprecation.py:117: LangChainDeprecationWarning: The class `langchain_community.embeddings.openai.OpenAIEmbeddings` was deprecated in langchain-community 0.0.9 and will be removed in 0.2.0. An updated version of the class exists in the langchain-openai package and should be used instead. To use it run `pip install -U langchain-openai` and import as `from langchain_openai import OpenAIEmbeddings`.\n",
      "  warn_deprecated(\n"
     ]
    }
   ],
   "source": [
    "load_dotenv(find_dotenv())\n",
    "text_splitter = CharacterTextSplitter(chunk_size=1000, chunk_overlap=0)\n",
    "docs = text_splitter.split_documents(documents)\n",
    "embeddings = OpenAIEmbeddings(model='text-embedding-3-small')"
   ]
  },
  {
   "cell_type": "code",
   "execution_count": 8,
   "metadata": {},
   "outputs": [
    {
     "name": "stderr",
     "output_type": "stream",
     "text": [
      "/Library/Frameworks/Python.framework/Versions/3.10/lib/python3.10/site-packages/pinecone/data/index.py:1: TqdmWarning: IProgress not found. Please update jupyter and ipywidgets. See https://ipywidgets.readthedocs.io/en/stable/user_install.html\n",
      "  from tqdm.autonotebook import tqdm\n"
     ]
    }
   ],
   "source": [
    "import pinecone\n",
    "pc = pinecone.Pinecone(api_key=os.getenv('PINECONE_API_KEY'),environment=os.getenv('PINECONE_ENV'))\n",
    "index_name = \"apex\""
   ]
  },
  {
   "cell_type": "code",
   "execution_count": 9,
   "metadata": {},
   "outputs": [],
   "source": [
    "docsearch = Pinecone.from_documents(docs, embeddings, index_name=index_name)"
   ]
  },
  {
   "cell_type": "code",
   "execution_count": 10,
   "metadata": {},
   "outputs": [
    {
     "name": "stderr",
     "output_type": "stream",
     "text": [
      "/Library/Frameworks/Python.framework/Versions/3.10/lib/python3.10/site-packages/langchain_community/llms/openai.py:249: UserWarning: You are trying to use a chat model. This way of initializing it is no longer supported. Instead, please use: `from langchain_community.chat_models import ChatOpenAI`\n",
      "  warnings.warn(\n",
      "/Library/Frameworks/Python.framework/Versions/3.10/lib/python3.10/site-packages/langchain_community/llms/openai.py:1070: UserWarning: You are trying to use a chat model. This way of initializing it is no longer supported. Instead, please use: `from langchain_community.chat_models import ChatOpenAI`\n",
      "  warnings.warn(\n"
     ]
    }
   ],
   "source": [
    "# initialize the LLM\n",
    "llm = OpenAI(model_name=\"gpt-4\", temperature=0)\n",
    "# the non-streaming LLM for questions\n",
    "question_generator = LLMChain(llm=llm, prompt=CONDENSE_QUESTION_PROMPT)"
   ]
  },
  {
   "cell_type": "code",
   "execution_count": 11,
   "metadata": {},
   "outputs": [
    {
     "name": "stderr",
     "output_type": "stream",
     "text": [
      "/Library/Frameworks/Python.framework/Versions/3.10/lib/python3.10/site-packages/langchain_core/_api/deprecation.py:117: LangChainDeprecationWarning: The class `langchain_community.llms.openai.OpenAI` was deprecated in langchain-community 0.0.10 and will be removed in 0.2.0. An updated version of the class exists in the langchain-openai package and should be used instead. To use it run `pip install -U langchain-openai` and import as `from langchain_openai import OpenAI`.\n",
      "  warn_deprecated(\n"
     ]
    }
   ],
   "source": [
    "# astreaming llm for the docs\n",
    "streaming_llm = OpenAI(\n",
    "    streaming=True, \n",
    "    callback_manager=CallbackManager([\n",
    "        StreamingStdOutCallbackHandler()\n",
    "    ]), \n",
    "    verbose=True,\n",
    "    temperature=0\n",
    ")\n",
    "doc_chain = load_qa_chain(streaming_llm, chain_type=\"stuff\", prompt=QA_PROMPT)\n",
    "\n",
    "# initialize ConversationalRetrievalChain chabot\n",
    "qa = ConversationalRetrievalChain(\n",
    "    retriever=docsearch.as_retriever(), combine_docs_chain=doc_chain, question_generator=question_generator)"
   ]
  },
  {
   "cell_type": "code",
   "execution_count": 14,
   "metadata": {},
   "outputs": [
    {
     "name": "stdout",
     "output_type": "stream",
     "text": [
      " To get your W2 online, please follow the steps outlined in the context provided. If you need assistance with updating your W4, please log into your My Apex Time Management account and follow the instructions provided. If you have any further questions or need additional help, please reach out to Employee Services at [email protected] or call 866 923 2739."
     ]
    }
   ],
   "source": [
    "# create an array to store the chat history.\n",
    "chat_history = []\n",
    "question = input(\"Hi! Ask me a question about Apex FAQ. \")\n",
    "\n",
    "# create a loop to ask the chatbot questions \n",
    "while True:\n",
    "    result = qa(\n",
    "        {\"question\": question, \"chat_history\": chat_history}\n",
    "    )\n",
    "    print(\"\\n\")\n",
    "    chat_history.append((result[\"question\"], result[\"answer\"]))\n",
    "    question = input()"
   ]
  }
 ],
 "metadata": {
  "kernelspec": {
   "display_name": "Python 3",
   "language": "python",
   "name": "python3"
  },
  "language_info": {
   "codemirror_mode": {
    "name": "ipython",
    "version": 3
   },
   "file_extension": ".py",
   "mimetype": "text/x-python",
   "name": "python",
   "nbconvert_exporter": "python",
   "pygments_lexer": "ipython3",
   "version": "3.10.10"
  }
 },
 "nbformat": 4,
 "nbformat_minor": 2
}
